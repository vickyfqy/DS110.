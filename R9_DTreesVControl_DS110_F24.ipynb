{
  "cells": [
    {
      "cell_type": "markdown",
      "metadata": {
        "id": "view-in-github",
        "colab_type": "text"
      },
      "source": [
        "<a href=\"https://colab.research.google.com/github/vickyfqy/DS110./blob/main/R9_DTreesVControl_DS110_F24.ipynb\" target=\"_parent\"><img src=\"https://colab.research.google.com/assets/colab-badge.svg\" alt=\"Open In Colab\"/></a>"
      ]
    },
    {
      "cell_type": "markdown",
      "metadata": {
        "id": "Glq3BWdIwHNF"
      },
      "source": [
        "# Decision Tree Decisions"
      ]
    },
    {
      "cell_type": "markdown",
      "metadata": {
        "id": "Iq-EgeOQwHNG"
      },
      "source": [
        "One of the nice things about decision trees is that it's possible to tell, for each data point, exactly the decisions that led to its classification.\n",
        "\n",
        "Below is a DecisionTree class that has the structure of a decision tree, although we here omit methods that would let us train it.  Code a function print_reasoning() that, given a datapoint represented by a dictionary and a decision tree, prints \"[featurename]: [value]\" for each node the datapoint encounters as it travels down the tree, followed by the classification when it reaches a leaf node.  Thus the output for the \"octopus\" dictionary given below should be:\n",
        "\n",
        "<code>\n",
        "8 legs: True\n",
        "Underwater: True\n",
        "octopus\n",
        "</code>\n",
        "\n",
        "We assume all the features here are boolean for convenience, so the object is represented by a dictionary with keys of featurenames and values of True or False.\n",
        "\n",
        "It is probably easiest to write your function recursively.  Your base case is reaching a leaf and printing the classification.  Your recursive case should print a little of the output and then make a recursive call on the correct branch of the tree."
      ]
    },
    {
      "cell_type": "code",
      "execution_count": 1,
      "metadata": {
        "id": "-oU03WRrwHNG"
      },
      "outputs": [],
      "source": [
        "class DecisionTree:\n",
        "    def __init__(self, featurename, classification):\n",
        "        self.featurename = featurename # Is None for leaf\n",
        "        self.classification = classification # Is None for interior node\n",
        "        self.yes = None # Link to \"yes\" branch of tree\n",
        "        self.no = None # Link to \"no\" branch of tree"
      ]
    },
    {
      "cell_type": "code",
      "execution_count": 2,
      "metadata": {
        "id": "N68cyQ7GwHNH"
      },
      "outputs": [],
      "source": [
        "# This sort of tree creation would be done automatically in a\n",
        "# decision tree learning algorithm\n",
        "octopus_tree = DecisionTree('8 legs', None)\n",
        "octopus_tree.yes = DecisionTree('Underwater', None)\n",
        "octopus_tree.yes.yes = DecisionTree(None, 'octopus')\n",
        "octopus_tree.yes.no = DecisionTree(None, 'spider')\n",
        "octopus_tree.no = DecisionTree(None, 'something else')"
      ]
    },
    {
      "cell_type": "code",
      "execution_count": null,
      "metadata": {
        "id": "hLMFQuJ5wHNH"
      },
      "outputs": [],
      "source": [
        "# TODO print_reasoning()"
      ]
    },
    {
      "cell_type": "code",
      "execution_count": null,
      "metadata": {
        "id": "j5r6r0UfwHNH",
        "outputId": "ef71cc89-4a41-431b-926f-f5a7ec27a797"
      },
      "outputs": [
        {
          "name": "stdout",
          "output_type": "stream",
          "text": [
            "8 legs: True\n",
            "Underwater: True\n",
            "octopus\n",
            "8 legs: True\n",
            "Underwater: False\n",
            "spider\n"
          ]
        }
      ],
      "source": [
        "octopus = {'8 legs': True, 'Underwater': True}\n",
        "spider = {'8 legs': True, 'Underwater': False}\n",
        "print_reasoning(octopus_tree, octopus)\n",
        "print_reasoning(octopus_tree, spider)"
      ]
    },
    {
      "cell_type": "markdown",
      "metadata": {
        "id": "u7__XJwBwHNI"
      },
      "source": [
        "# Regression"
      ]
    },
    {
      "cell_type": "markdown",
      "metadata": {
        "id": "Gf1kUSyPwHNI"
      },
      "source": [
        "a) The following list gives monthly gas prices (per gallon) in Massachusetts from the beginning of the pandemic (March 2020) to the end of 2022.  (Source: https://www.eia.gov/dnav/pet/hist/LeafHandler.ashx?n=PET&s=EMM_EPM0_PTE_SMA_DPG&f=M)  Fit a line to the data and plot it alongside the original data points.  (Note that you'll need to create your own x coordinates - try using np.linspace().)"
      ]
    },
    {
      "cell_type": "code",
      "execution_count": null,
      "metadata": {
        "id": "XLnn7dOvwHNI"
      },
      "outputs": [],
      "source": [
        "gas_prices = [2.385, 2.015, 2.000, 2.116, 2.178, 2.185, 2.184, 2.160,\n",
        "              2.142, 2.233, 2.381, 2.538, 2.792, 2.823, 2.943, 3.016,\n",
        "              3.088, 3.112, 3.162, 3.308, 3.479, 3.447, 3.409, 3.575,\n",
        "              4.310, 4.171, 4.634, 5.074, 4.728, 4.346, 3.826, 3.700, 3.912, 3.578]"
      ]
    },
    {
      "cell_type": "code",
      "execution_count": null,
      "metadata": {
        "id": "8nsB2Ma-wHNI",
        "outputId": "a78f09ac-8d55-4dbf-80e4-74a09226dde9"
      },
      "outputs": [
        {
          "data": {
            "text/plain": [
              "[<matplotlib.lines.Line2D at 0x7f9bdda49cd0>]"
            ]
          },
          "execution_count": 2,
          "metadata": {},
          "output_type": "execute_result"
        },
        {
          "data": {
            "image/png": "[encoded data removed]",
            "text/plain": [
              "<Figure size 640x480 with 1 Axes>"
            ]
          },
          "metadata": {},
          "output_type": "display_data"
        }
      ],
      "source": [
        "# TODO"
      ]
    },
    {
      "cell_type": "markdown",
      "metadata": {
        "id": "MwKe4eHawHNI"
      },
      "source": [
        "b) There seems to be an anomaly here where the linear fit isn't great.  We'd like to write code that can automatically find such deviations from the fit.\n",
        "\n",
        "Find the standard deviation (numpy.std()) of all the distances between the data points and our line, then find all the points that are 1.5 standard deviations away or more and plot them as red points on top of an identical plot to the one above."
      ]
    },
    {
      "cell_type": "code",
      "execution_count": null,
      "metadata": {
        "id": "4RI_bcYewHNI",
        "outputId": "63bbc850-db31-4e49-c518-5686f3c7215f"
      },
      "outputs": [
        {
          "data": {
            "text/plain": [
              "[<matplotlib.lines.Line2D at 0x7f9bdeabdbe0>]"
            ]
          },
          "execution_count": 12,
          "metadata": {},
          "output_type": "execute_result"
        },
        {
          "data": {
            "image/png": "[encoded data removed]",
            "text/plain": [
              "<Figure size 640x480 with 1 Axes>"
            ]
          },
          "metadata": {},
          "output_type": "display_data"
        }
      ],
      "source": [
        "# TODO"
      ]
    },
    {
      "cell_type": "markdown",
      "metadata": {
        "id": "X8ZejeLcwHNI"
      },
      "source": [
        "# Tool focus:  Version Control\n",
        "\n",
        "Have you ever worked on a project where you needed to pass around a file to modify?  You probably were a little discontent with the process.  Near the end, it may have been hard to determine whether FinalFinal.docx was really your most recent copy, or if there might be a FinalFinalFinal.docx that was more recent.  If you were collaborating, it may have been annoying to try to keep people from working on the same stuff simultaneously.  And if you wanted to go back to an earlier version, you could only hope you saved a separate version around the right time."
      ]
    },
    {
      "cell_type": "markdown",
      "metadata": {
        "id": "r6r9HIgWwHNI"
      },
      "source": [
        "*Version control*, and the git/Github software and site in particular, is the programmer's answer to all the aforementioned problems.\n",
        "\n",
        "* A central server keeps track of a series of versions of the code.  It's always clear what the most recent version is, and it's relatively easy to go back to an earlier version.  If code becomes buggy, this helps determine when the bug was introduced.\n",
        "\n",
        "* When people get copies to work on locally, on their own machines, they create their own individual histories locally.  People are free to ignore their collaborators' work until they merge their changes back into the central repository.\n",
        "\n",
        "* When it's time to merge local changes into the central repository, the code is scanned for differences, and any discrepancies resulting from others' changes are highlighted and resolved."
      ]
    },
    {
      "cell_type": "markdown",
      "metadata": {
        "id": "A36BMM76wHNI"
      },
      "source": [
        "If you become familiar with version control now, it may especially help with the final project, where you will have multiple individuals trying to work with the same files at the same time."
      ]
    },
    {
      "cell_type": "markdown",
      "metadata": {
        "id": "C6AiLwHJwHNI"
      },
      "source": [
        "* If you do not already have a github account, go create one now at:  https://github.com/\n",
        "* Once you've created an account, create a new repository.  If you don't see the big green button immediately, you can click on yourself, then on \"Repositories,\" then \"New\" in the upper right.\n",
        "* Name your repository something arbitrary, like \"repo_test.\"  Also make it private (this is what you'd want to do for homework and other sensitive stuff).  Make a README file (because it also sets up a \"branch\" that you can commit to).  The other options don't really matter right now.\n",
        "* Assuming you are doing this recitation in Colab, go to File->Save a copy in GitHub.  Choose your notebook and save it to GitHub!  (You might also change the commit message - this is a good habit to get into so that you can find particular versions later.)\n",
        "* Check the repo on the GitHub website (under your username->Repositories), and verify that your code is now on the web (privately, assuming you chose \"private\")."
      ]
    },
    {
      "cell_type": "markdown",
      "metadata": {
        "id": "6otUvozNwHNI"
      },
      "source": [
        "* Now let's try going back to an earlier version.  Fill the following code box with junk, and File->Save a copy in GitHub."
      ]
    },
    {
      "cell_type": "code",
      "execution_count": null,
      "metadata": {
        "id": "TBs5KglrwHNI"
      },
      "outputs": [],
      "source": []
    },
    {
      "cell_type": "markdown",
      "metadata": {
        "id": "4ElSn7bNwHNI"
      },
      "source": [
        "* You can now see both versions of the notebook in the GitHub repository history.  (Repositories->your_repo_name->your_filename->History, with the clock icon.)\n",
        "* To open the most recent version, go to \"File->Open Notebook\" in Colab and choose the GitHub tab at the top.  Choose your repo and open it.\n",
        "* You can also access the versions in your history from Colab.  Go to File->Revision History.  (Notice that the right-hand side displays differences between the files.)  The dots next to each item in the history have the option of Open in Colab.  Try restoring an old version now."
      ]
    },
    {
      "cell_type": "markdown",
      "metadata": {
        "id": "-P04CZVIwHNJ"
      },
      "source": [
        "* Last, try collaborating with someone on this file.  Within your repo on GitHub, go to Settings->Collaborators->Add people.  Add someone in your section who is willing to share their username with you.  \"Sign\" each others' work in the last text box, and show this along with your completed code to the TA to finish this section."
      ]
    },
    {
      "cell_type": "markdown",
      "metadata": {
        "id": "5YEd5lKJwHNJ"
      },
      "source": [
        "**Your collaborator's signature here**"
      ]
    },
    {
      "cell_type": "code",
      "execution_count": null,
      "metadata": {
        "id": "T0oqfBZrwHNJ"
      },
      "outputs": [],
      "source": []
    }
  ],
  "metadata": {
    "colab": {
      "provenance": [],
      "include_colab_link": true
    },
    "kernelspec": {
      "display_name": "Python 3 (ipykernel)",
      "language": "python",
      "name": "python3"
    },
    "language_info": {
      "codemirror_mode": {
        "name": "ipython",
        "version": 3
      },
      "file_extension": ".py",
      "mimetype": "text/x-python",
      "name": "python",
      "nbconvert_exporter": "python",
      "pygments_lexer": "ipython3",
      "version": "3.8.8"
    }
  },
  "nbformat": 4,
  "nbformat_minor": 0
}